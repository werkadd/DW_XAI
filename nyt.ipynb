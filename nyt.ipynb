{
 "cells": [
  {
   "cell_type": "code",
   "execution_count": 6,
   "metadata": {},
   "outputs": [],
   "source": [
    "import string\n",
    "from io import StringIO\n",
    "import pandas as pd\n",
    "import numpy as np\n",
    "import sklearn\n",
    "import sklearn.ensemble\n",
    "import sklearn.metrics\n",
    "from sklearn.utils import shuffle\n",
    "from sklearn.model_selection import train_test_split\n",
    "from sklearn.feature_extraction.text import CountVectorizer\n",
    "from sklearn.linear_model import LogisticRegression\n",
    "from sklearn.metrics import accuracy_score, f1_score, precision_score, recall_score\n",
    "from sklearn.pipeline import make_pipeline\n",
    "\n",
    "from text_prepare import html_docode, clean_text, stemm_text, lemmatize_text"
   ]
  },
  {
   "cell_type": "code",
   "execution_count": 7,
   "metadata": {},
   "outputs": [],
   "source": [
    "#Reading tfrom files\n",
    "nyTimesFile = open('NYT_articles/nytimes_news_articles.txt', encoding='latin-1')\n",
    "nyTimesFile.seek(0)\n",
    "nyTimesV1 = nyTimesFile.readlines()\n",
    "nyTimesTemp = []\n",
    "nyTimesURL = []\n",
    "\n",
    "for i in range(0, len(nyTimesV1)-1):\n",
    "    if re.findall('URL', nyTimesV1[i]) == []:\n",
    "        sent = sent + nyTimesV1[i]\n",
    "        if (re.findall('URL', nyTimesV1[i+1]) != []) and (i+1 < len(nyTimesV1)):\n",
    "            nyTimesTemp.append(sent.strip())\n",
    "    else:\n",
    "        sent = ''\n",
    "        nyTimesURL.append(nyTimesV1[i])\n",
    "\n",
    "for i in range(0, len(nyTimesTemp)):\n",
    "    nyTimesTemp[i] = nyTimesTemp[i]+'articleID'+str(i)\n"
   ]
  },
  {
   "cell_type": "code",
   "execution_count": 8,
   "metadata": {},
   "outputs": [],
   "source": [
    "nyt_cleaned = text_prepare.clean_text(nyTimesTemp)\n",
    "stemmed_nyt = text_prepare.stemm_text(nyt_cleaned)\n",
    "lemmatized_nyt = text_prepare.lemmatize_text(nyt_cleaned)"
   ]
  },
  {
   "cell_type": "code",
   "execution_count": null,
   "metadata": {},
   "outputs": [],
   "source": []
  }
 ],
 "metadata": {
  "kernelspec": {
   "display_name": "Python 3",
   "language": "python",
   "name": "python3"
  },
  "language_info": {
   "codemirror_mode": {
    "name": "ipython",
    "version": 3
   },
   "file_extension": ".py",
   "mimetype": "text/x-python",
   "name": "python",
   "nbconvert_exporter": "python",
   "pygments_lexer": "ipython3",
   "version": "3.7.4"
  }
 },
 "nbformat": 4,
 "nbformat_minor": 4
}
